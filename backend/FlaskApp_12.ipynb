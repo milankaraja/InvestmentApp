{
 "cells": [
  {
   "cell_type": "code",
   "execution_count": null,
   "id": "0bcbfbfb",
   "metadata": {},
   "outputs": [
    {
     "name": "stderr",
     "output_type": "stream",
     "text": [
      "[*********************100%***********************]  4 of 5 completed\n",
      "\n",
      "5 Failed downloads:\n",
      "['APOLLOHOSP.NS', 'ASIANPAINT.NS', 'ADANIPORTS.NS', 'BAJAJ-AUTO.NS', 'AXISBANK.NS']: YFRateLimitError('Too Many Requests. Rate limited. Try after a while.')\n"
     ]
    },
    {
     "name": "stdout",
     "output_type": "stream",
     "text": [
      "Downloaded: ['ADANIPORTS.NS', 'APOLLOHOSP.NS', 'ASIANPAINT.NS', 'AXISBANK.NS', 'BAJAJ-AUTO.NS']\n"
     ]
    },
    {
     "name": "stderr",
     "output_type": "stream",
     "text": [
      "[*********************100%***********************]  5 of 5 completed\n",
      "\n",
      "5 Failed downloads:\n",
      "['BAJAJFINSV.NS', 'BRITANNIA.NS', 'BAJFINANCE.NS', 'BHARTIARTL.NS', 'BPCL.NS']: YFRateLimitError('Too Many Requests. Rate limited. Try after a while.')\n"
     ]
    },
    {
     "name": "stdout",
     "output_type": "stream",
     "text": [
      "Downloaded: ['BAJFINANCE.NS', 'BAJAJFINSV.NS', 'BPCL.NS', 'BHARTIARTL.NS', 'BRITANNIA.NS']\n"
     ]
    },
    {
     "name": "stderr",
     "output_type": "stream",
     "text": [
      "[*********************100%***********************]  5 of 5 completed\n",
      "\n",
      "5 Failed downloads:\n",
      "['COALINDIA.NS', 'DRREDDY.NS', 'CIPLA.NS', 'DIVISLAB.NS', 'EICHERMOT.NS']: YFRateLimitError('Too Many Requests. Rate limited. Try after a while.')\n"
     ]
    },
    {
     "name": "stdout",
     "output_type": "stream",
     "text": [
      "Downloaded: ['CIPLA.NS', 'COALINDIA.NS', 'DIVISLAB.NS', 'DRREDDY.NS', 'EICHERMOT.NS']\n"
     ]
    },
    {
     "name": "stderr",
     "output_type": "stream",
     "text": [
      "[*********************100%***********************]  5 of 5 completed\n",
      "\n",
      "5 Failed downloads:\n",
      "['HEROMOTOCO.NS', 'HDFCLIFE.NS', 'GRASIM.NS', 'HDFCBANK.NS', 'HCLTECH.NS']: YFRateLimitError('Too Many Requests. Rate limited. Try after a while.')\n"
     ]
    },
    {
     "name": "stdout",
     "output_type": "stream",
     "text": [
      "Downloaded: ['GRASIM.NS', 'HCLTECH.NS', 'HDFCBANK.NS', 'HDFCLIFE.NS', 'HEROMOTOCO.NS']\n"
     ]
    },
    {
     "name": "stderr",
     "output_type": "stream",
     "text": [
      "[*********************100%***********************]  5 of 5 completed\n",
      "\n",
      "5 Failed downloads:\n",
      "['HINDALCO.NS', 'ICICIBANK.NS', 'INDUSINDBK.NS', 'HINDUNILVR.NS', 'ITC.NS']: YFRateLimitError('Too Many Requests. Rate limited. Try after a while.')\n"
     ]
    },
    {
     "name": "stdout",
     "output_type": "stream",
     "text": [
      "Downloaded: ['HINDALCO.NS', 'HINDUNILVR.NS', 'ICICIBANK.NS', 'ITC.NS', 'INDUSINDBK.NS']\n"
     ]
    },
    {
     "name": "stderr",
     "output_type": "stream",
     "text": [
      "[*********************100%***********************]  5 of 5 completed\n",
      "\n",
      "5 Failed downloads:\n",
      "['LT.NS', 'INFY.NS', 'KOTAKBANK.NS', 'M&M.NS', 'JSWSTEEL.NS']: YFRateLimitError('Too Many Requests. Rate limited. Try after a while.')\n"
     ]
    },
    {
     "name": "stdout",
     "output_type": "stream",
     "text": [
      "Downloaded: ['INFY.NS', 'JSWSTEEL.NS', 'KOTAKBANK.NS', 'LT.NS', 'M&M.NS']\n"
     ]
    },
    {
     "name": "stderr",
     "output_type": "stream",
     "text": [
      "[**********************80%*************          ]  4 of 5 completed\n",
      "\n",
      "5 Failed downloads:\n",
      "['ONGC.NS', 'POWERGRID.NS', 'NTPC.NS', 'MARUTI.NS', 'NESTLEIND.NS']: YFRateLimitError('Too Many Requests. Rate limited. Try after a while.')\n"
     ]
    },
    {
     "name": "stdout",
     "output_type": "stream",
     "text": [
      "Downloaded: ['MARUTI.NS', 'NESTLEIND.NS', 'NTPC.NS', 'ONGC.NS', 'POWERGRID.NS']\n"
     ]
    },
    {
     "name": "stderr",
     "output_type": "stream",
     "text": [
      "[*********************100%***********************]  5 of 5 completed\n",
      "\n",
      "5 Failed downloads:\n",
      "['RELIANCE.NS', 'SUNPHARMA.NS', 'SBIN.NS', 'SBILIFE.NS', 'TATAMOTORS.NS']: YFRateLimitError('Too Many Requests. Rate limited. Try after a while.')\n"
     ]
    },
    {
     "name": "stdout",
     "output_type": "stream",
     "text": [
      "Downloaded: ['RELIANCE.NS', 'SBILIFE.NS', 'SBIN.NS', 'SUNPHARMA.NS', 'TATAMOTORS.NS']\n"
     ]
    },
    {
     "name": "stderr",
     "output_type": "stream",
     "text": [
      "[*********************100%***********************]  5 of 5 completed\n",
      "\n",
      "5 Failed downloads:\n",
      "['TITAN.NS', 'ULTRACEMCO.NS', 'TECHM.NS', 'TCS.NS', 'TATASTEEL.NS']: YFRateLimitError('Too Many Requests. Rate limited. Try after a while.')\n"
     ]
    },
    {
     "name": "stdout",
     "output_type": "stream",
     "text": [
      "Downloaded: ['TATASTEEL.NS', 'TCS.NS', 'TECHM.NS', 'TITAN.NS', 'ULTRACEMCO.NS']\n"
     ]
    },
    {
     "name": "stderr",
     "output_type": "stream",
     "text": [
      "[*********************100%***********************]  2 of 2 completed\n",
      "\n",
      "2 Failed downloads:\n",
      "['WIPRO.NS', 'UPL.NS']: YFRateLimitError('Too Many Requests. Rate limited. Try after a while.')\n"
     ]
    },
    {
     "name": "stdout",
     "output_type": "stream",
     "text": [
      "Downloaded: ['UPL.NS', 'WIPRO.NS']\n"
     ]
    },
    {
     "ename": "AttributeError",
     "evalue": "'list' object has no attribute 'loc'",
     "output_type": "error",
     "traceback": [
      "\u001b[0;31m---------------------------------------------------------------------------\u001b[0m",
      "\u001b[0;31mAttributeError\u001b[0m                            Traceback (most recent call last)",
      "Cell \u001b[0;32mIn[2], line 55\u001b[0m\n\u001b[1;32m     51\u001b[0m         \u001b[38;5;28mprint\u001b[39m(\u001b[38;5;124mf\u001b[39m\u001b[38;5;124m\"\u001b[39m\u001b[38;5;124mFailed batch \u001b[39m\u001b[38;5;132;01m{\u001b[39;00mbatch\u001b[38;5;132;01m}\u001b[39;00m\u001b[38;5;124m: \u001b[39m\u001b[38;5;132;01m{\u001b[39;00me\u001b[38;5;132;01m}\u001b[39;00m\u001b[38;5;124m\"\u001b[39m)\n\u001b[1;32m     52\u001b[0m     time\u001b[38;5;241m.\u001b[39msleep(\u001b[38;5;241m10\u001b[39m)  \u001b[38;5;66;03m# Wait 10 seconds between batches\u001b[39;00m\n\u001b[0;32m---> 55\u001b[0m stockData_22 \u001b[38;5;241m=\u001b[39m \u001b[43mall_data\u001b[49m\u001b[38;5;241;43m.\u001b[39;49m\u001b[43mloc\u001b[49m[:,([\u001b[38;5;124m'\u001b[39m\u001b[38;5;124mClose\u001b[39m\u001b[38;5;124m'\u001b[39m,\u001b[38;5;124m'\u001b[39m\u001b[38;5;124mVolume\u001b[39m\u001b[38;5;124m'\u001b[39m,\u001b[38;5;124m'\u001b[39m\u001b[38;5;124mDividends\u001b[39m\u001b[38;5;124m'\u001b[39m,\u001b[38;5;124m'\u001b[39m\u001b[38;5;124mStock Splits\u001b[39m\u001b[38;5;124m'\u001b[39m],companyNamesArray)]\n\u001b[1;32m     56\u001b[0m stockData_22\u001b[38;5;241m.\u001b[39mcolumns \u001b[38;5;241m=\u001b[39m stockData_22\u001b[38;5;241m.\u001b[39mcolumns\u001b[38;5;241m.\u001b[39mmap(\u001b[38;5;28;01mlambda\u001b[39;00m x: \u001b[38;5;124mf\u001b[39m\u001b[38;5;124m\"\u001b[39m\u001b[38;5;132;01m{\u001b[39;00mx[\u001b[38;5;241m0\u001b[39m]\u001b[38;5;132;01m}\u001b[39;00m\u001b[38;5;124m_\u001b[39m\u001b[38;5;132;01m{\u001b[39;00mx[\u001b[38;5;241m1\u001b[39m]\u001b[38;5;132;01m}\u001b[39;00m\u001b[38;5;124m\"\u001b[39m)\n\u001b[1;32m     57\u001b[0m metrics \u001b[38;5;241m=\u001b[39m [\u001b[38;5;124m'\u001b[39m\u001b[38;5;124mClose\u001b[39m\u001b[38;5;124m'\u001b[39m,\u001b[38;5;124m'\u001b[39m\u001b[38;5;124mVolume\u001b[39m\u001b[38;5;124m'\u001b[39m, \u001b[38;5;124m'\u001b[39m\u001b[38;5;124mDividends\u001b[39m\u001b[38;5;124m'\u001b[39m, \u001b[38;5;124m'\u001b[39m\u001b[38;5;124mStock Splits\u001b[39m\u001b[38;5;124m'\u001b[39m]\n",
      "\u001b[0;31mAttributeError\u001b[0m: 'list' object has no attribute 'loc'"
     ]
    }
   ],
   "source": [
    "from app import app, db, bcrypt\n",
    "from models import User, Stock, Portfolio\n",
    "from flask import jsonify, request\n",
    "import yfinance as yf\n",
    "import pandas as pd\n",
    "import sqlite3\n",
    "import time\n",
    "\n",
    "# Old lis\n",
    "#companyNames = 'HDFCBANK.NS HINDUNILVR.NS ASIANPAINT.NS RELIANCE.NS TCS.NS AUROPHARMA.NS BBTC.NS BALKRISIND.NS GARFIBRES.NS COLPAL.NS NESTLEIND.NS MARUTI.NS BRITANNIA.NS BOSCHLTD.NS ONGC.NS ABBOTINDIA.NS DIVISLAB.NS BAJFINANCE.NS RECLTD.NS PFC.NS PIDILITIND.NS ARE&M.NS'\n",
    "# Nifty 50 company symbols (Yahoo Finance format)\n",
    "\n",
    "\"\"\"\n",
    "companyNames = (\n",
    "    'ADANIPORTS.NS APOLLOHOSP.NS ASIANPAINT.NS AXISBANK.NS BAJAJ-AUTO.NS BAJFINANCE.NS BAJAJFINSV.NS '\n",
    "    'BPCL.NS BHARTIARTL.NS BRITANNIA.NS CIPLA.NS COALINDIA.NS DIVISLAB.NS DRREDDY.NS EICHERMOT.NS GRASIM.NS '\n",
    "    'HCLTECH.NS HDFCBANK.NS HDFCLIFE.NS HEROMOTOCO.NS HINDALCO.NS HINDUNILVR.NS ICICIBANK.NS ITC.NS '\n",
    "    'INDUSINDBK.NS INFY.NS JSWSTEEL.NS KOTAKBANK.NS LT.NS M&M.NS MARUTI.NS NESTLEIND.NS NTPC.NS '\n",
    "    'ONGC.NS POWERGRID.NS RELIANCE.NS SBILIFE.NS SBIN.NS SUNPHARMA.NS TATAMOTORS.NS TATASTEEL.NS '\n",
    "    'TCS.NS TECHM.NS TITAN.NS ULTRACEMCO.NS UPL.NS WIPRO.NS'\n",
    ")\n",
    "companyNamesArray = companyNames.split() \n",
    "multipleStocks = yf.Tickers(companyNames)\n",
    "ms_stockprices = multipleStocks.history(period=\"max\")\n",
    "\n",
    "\"\"\"\n",
    "\n",
    "\n",
    "\n",
    "companyNamesArray = [\n",
    "    'ADANIPORTS.NS', 'APOLLOHOSP.NS', 'ASIANPAINT.NS', 'AXISBANK.NS', 'BAJAJ-AUTO.NS', 'BAJFINANCE.NS', 'BAJAJFINSV.NS',\n",
    "    'BPCL.NS', 'BHARTIARTL.NS', 'BRITANNIA.NS', 'CIPLA.NS', 'COALINDIA.NS', 'DIVISLAB.NS', 'DRREDDY.NS', 'EICHERMOT.NS',\n",
    "    'GRASIM.NS', 'HCLTECH.NS', 'HDFCBANK.NS', 'HDFCLIFE.NS', 'HEROMOTOCO.NS', 'HINDALCO.NS', 'HINDUNILVR.NS',\n",
    "    'ICICIBANK.NS', 'ITC.NS', 'INDUSINDBK.NS', 'INFY.NS', 'JSWSTEEL.NS', 'KOTAKBANK.NS', 'LT.NS', 'M&M.NS',\n",
    "    'MARUTI.NS', 'NESTLEIND.NS', 'NTPC.NS', 'ONGC.NS', 'POWERGRID.NS', 'RELIANCE.NS', 'SBILIFE.NS', 'SBIN.NS',\n",
    "    'SUNPHARMA.NS', 'TATAMOTORS.NS', 'TATASTEEL.NS', 'TCS.NS', 'TECHM.NS', 'TITAN.NS', 'ULTRACEMCO.NS', 'UPL.NS', 'WIPRO.NS'\n",
    "]\n",
    "\n",
    "all_data = []\n",
    "batch_size = 10\n",
    "\n",
    "for i in range(0, len(companyNamesArray), batch_size):\n",
    "    batch = companyNamesArray[i:i+batch_size]\n",
    "    tickers = \" \".join(batch)\n",
    "    try:\n",
    "        ms = yf.Tickers(tickers)\n",
    "        data = ms.history(period=\"max\")\n",
    "        all_data.append(data)\n",
    "        print(f\"Downloaded: {batch}\")\n",
    "    except Exception as e:\n",
    "        print(f\"Failed batch {batch}: {e}\")\n",
    "    time.sleep(10)  # Wait 10 seconds between batches\n",
    "\n",
    "\n",
    "stockData_22 = all_data.loc[:,(['Close','Volume','Dividends','Stock Splits'],companyNamesArray)]\n",
    "stockData_22.columns = stockData_22.columns.map(lambda x: f\"{x[0]}_{x[1]}\")\n",
    "metrics = ['Close','Volume', 'Dividends', 'Stock Splits']\n",
    "\n",
    "# Prepare the value_vars dictionary dynamically\n",
    "value_vars = {}\n",
    "for company in companyNamesArray:\n",
    "    for metric in metrics:\n",
    "        column_name = f\"{metric}_{company}\"\n",
    "        if column_name in stockData_22.columns:  # Check if the column exists\n",
    "            value_vars[column_name] = (company, metric)\n",
    "\n",
    "df_long = stockData_22.melt(\n",
    "    id_vars=[\"Date\"], \n",
    "    var_name='variable',  # Use a scalar here\n",
    "    value_name='value',\n",
    "    value_vars=value_vars\n",
    ")\n",
    "# Split the 'variable' column into 'company' and 'metric'\n",
    "df_long[['metric','company']] = df_long['variable'].str.split('_', expand=True)\n",
    "df_long = df_long.drop(columns='variable')\n",
    "new_order = ['Date','company','metric','value']\n",
    "df_long=df_long[new_order]\n",
    "\n",
    "# Create Metrics Table\n",
    "metrics = df_long[['metric']].drop_duplicates().reset_index(drop=True)\n",
    "metrics['Metric_ID'] = metrics.index + 1\n",
    "metrics = metrics[['Metric_ID', 'metric']]\n",
    "\n",
    "# Create Companies Table\n",
    "companies = df_long[['company']].drop_duplicates().reset_index(drop=True)\n",
    "companies['Company_ID'] = companies.index + 1\n",
    "companies = companies[['Company_ID', 'company']]\n",
    "\n",
    "# Create Data Table\n",
    "data = df_long.merge(companies, on='company').merge(metrics, on='metric')\n",
    "data = data[['Date', 'Company_ID', 'Metric_ID', 'value']]\n",
    "\n",
    "# Connect to SQLite database (will create one if it doesn't exist)\n",
    "conn = sqlite3.connect('stock_data_nifty50.db')\n",
    "\n",
    "# Write the dataframes to SQL tables\n",
    "metrics.to_sql('Metrics', conn, if_exists='replace', index=False)\n",
    "companies.to_sql('Companies', conn, if_exists='replace', index=False)\n",
    "data.to_sql('Data', conn, if_exists='replace', index=False)\n",
    "\n",
    "# Close the connection\n",
    "conn.close()\n",
    "\n"
   ]
  },
  {
   "cell_type": "code",
   "execution_count": null,
   "id": "148fd62e",
   "metadata": {},
   "outputs": [],
   "source": []
  }
 ],
 "metadata": {
  "kernelspec": {
   "display_name": "investmentapp",
   "language": "python",
   "name": "investmentapp"
  }
 },
 "nbformat": 4,
 "nbformat_minor": 5
}
